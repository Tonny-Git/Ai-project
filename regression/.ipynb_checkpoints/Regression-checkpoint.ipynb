{
 "cells": [
  {
   "cell_type": "markdown",
   "metadata": {},
   "source": [
    "# Linear Regression / Polynomial Regression"
   ]
  },
  {
   "cell_type": "markdown",
   "metadata": {},
   "source": [
    "## Importing the libraries"
   ]
  },
  {
   "cell_type": "code",
   "execution_count": 1,
   "metadata": {},
   "outputs": [],
   "source": [
    "import numpy as np\n",
    "import pandas as pd\n",
    "import matplotlib.pyplot as plt"
   ]
  },
  {
   "cell_type": "markdown",
   "metadata": {},
   "source": [
    "## Importing the dataset"
   ]
  },
  {
   "cell_type": "code",
   "execution_count": 2,
   "metadata": {},
   "outputs": [],
   "source": [
    "dataset = pd.read_csv(\"data/insurance.csv\")"
   ]
  },
  {
   "cell_type": "code",
   "execution_count": 3,
   "metadata": {},
   "outputs": [
    {
     "data": {
      "text/html": [
       "<div>\n",
       "<style scoped>\n",
       "    .dataframe tbody tr th:only-of-type {\n",
       "        vertical-align: middle;\n",
       "    }\n",
       "\n",
       "    .dataframe tbody tr th {\n",
       "        vertical-align: top;\n",
       "    }\n",
       "\n",
       "    .dataframe thead th {\n",
       "        text-align: right;\n",
       "    }\n",
       "</style>\n",
       "<table border=\"1\" class=\"dataframe\">\n",
       "  <thead>\n",
       "    <tr style=\"text-align: right;\">\n",
       "      <th></th>\n",
       "      <th>age</th>\n",
       "      <th>sex</th>\n",
       "      <th>bmi</th>\n",
       "      <th>children</th>\n",
       "      <th>smoker</th>\n",
       "      <th>region</th>\n",
       "      <th>charges</th>\n",
       "    </tr>\n",
       "  </thead>\n",
       "  <tbody>\n",
       "    <tr>\n",
       "      <th>0</th>\n",
       "      <td>19</td>\n",
       "      <td>female</td>\n",
       "      <td>27.900</td>\n",
       "      <td>0</td>\n",
       "      <td>yes</td>\n",
       "      <td>southwest</td>\n",
       "      <td>16884.92400</td>\n",
       "    </tr>\n",
       "    <tr>\n",
       "      <th>1</th>\n",
       "      <td>18</td>\n",
       "      <td>male</td>\n",
       "      <td>33.770</td>\n",
       "      <td>1</td>\n",
       "      <td>no</td>\n",
       "      <td>southeast</td>\n",
       "      <td>1725.55230</td>\n",
       "    </tr>\n",
       "    <tr>\n",
       "      <th>2</th>\n",
       "      <td>28</td>\n",
       "      <td>male</td>\n",
       "      <td>33.000</td>\n",
       "      <td>3</td>\n",
       "      <td>no</td>\n",
       "      <td>southeast</td>\n",
       "      <td>4449.46200</td>\n",
       "    </tr>\n",
       "    <tr>\n",
       "      <th>3</th>\n",
       "      <td>33</td>\n",
       "      <td>male</td>\n",
       "      <td>22.705</td>\n",
       "      <td>0</td>\n",
       "      <td>no</td>\n",
       "      <td>northwest</td>\n",
       "      <td>21984.47061</td>\n",
       "    </tr>\n",
       "    <tr>\n",
       "      <th>4</th>\n",
       "      <td>32</td>\n",
       "      <td>male</td>\n",
       "      <td>28.880</td>\n",
       "      <td>0</td>\n",
       "      <td>no</td>\n",
       "      <td>northwest</td>\n",
       "      <td>3866.85520</td>\n",
       "    </tr>\n",
       "  </tbody>\n",
       "</table>\n",
       "</div>"
      ],
      "text/plain": [
       "   age     sex     bmi  children smoker     region      charges\n",
       "0   19  female  27.900         0    yes  southwest  16884.92400\n",
       "1   18    male  33.770         1     no  southeast   1725.55230\n",
       "2   28    male  33.000         3     no  southeast   4449.46200\n",
       "3   33    male  22.705         0     no  northwest  21984.47061\n",
       "4   32    male  28.880         0     no  northwest   3866.85520"
      ]
     },
     "execution_count": 3,
     "metadata": {},
     "output_type": "execute_result"
    }
   ],
   "source": [
    "dataset.head()"
   ]
  },
  {
   "cell_type": "code",
   "execution_count": 4,
   "metadata": {},
   "outputs": [],
   "source": [
    "X = dataset.iloc[:, :-1].values\n",
    "y = dataset.iloc[:, -1].values"
   ]
  },
  {
   "cell_type": "code",
   "execution_count": 5,
   "metadata": {},
   "outputs": [
    {
     "data": {
      "text/plain": [
       "((1338, 6), (1338,))"
      ]
     },
     "execution_count": 5,
     "metadata": {},
     "output_type": "execute_result"
    }
   ],
   "source": [
    "X.shape, y.shape"
   ]
  },
  {
   "cell_type": "markdown",
   "metadata": {},
   "source": [
    "## Encoding categorical data"
   ]
  },
  {
   "cell_type": "code",
   "execution_count": 6,
   "metadata": {},
   "outputs": [],
   "source": [
    "from sklearn.compose import ColumnTransformer\n",
    "from sklearn.preprocessing import OneHotEncoder"
   ]
  },
  {
   "cell_type": "code",
   "execution_count": 7,
   "metadata": {},
   "outputs": [],
   "source": [
    "ct = ColumnTransformer(transformers=[('encoder', OneHotEncoder(), [1, 4, 5])], remainder='passthrough')"
   ]
  },
  {
   "cell_type": "code",
   "execution_count": 8,
   "metadata": {},
   "outputs": [],
   "source": [
    "X = np.array(ct.fit_transform(X))"
   ]
  },
  {
   "cell_type": "code",
   "execution_count": 9,
   "metadata": {},
   "outputs": [
    {
     "data": {
      "text/plain": [
       "array([1.0, 0.0, 0.0, 1.0, 0.0, 0.0, 0.0, 1.0, 19, 27.9, 0], dtype=object)"
      ]
     },
     "execution_count": 9,
     "metadata": {},
     "output_type": "execute_result"
    }
   ],
   "source": [
    "X[0]"
   ]
  },
  {
   "cell_type": "markdown",
   "metadata": {},
   "source": [
    "## Splitting the dataset into the Training set and Test set"
   ]
  },
  {
   "cell_type": "code",
   "execution_count": 10,
   "metadata": {},
   "outputs": [],
   "source": [
    "from sklearn.model_selection import train_test_split"
   ]
  },
  {
   "cell_type": "code",
   "execution_count": 11,
   "metadata": {},
   "outputs": [],
   "source": [
    "X_train, X_test, y_train, y_test = train_test_split(X, y, test_size=0.2, random_state=0)"
   ]
  },
  {
   "cell_type": "code",
   "execution_count": 12,
   "metadata": {},
   "outputs": [
    {
     "data": {
      "text/plain": [
       "array([[0.0, 1.0, 1.0, ..., 52, 30.2, 1],\n",
       "       [1.0, 0.0, 1.0, ..., 47, 29.37, 1],\n",
       "       [0.0, 1.0, 0.0, ..., 48, 40.565, 2],\n",
       "       ...,\n",
       "       [0.0, 1.0, 1.0, ..., 57, 40.28, 0],\n",
       "       [1.0, 0.0, 0.0, ..., 30, 39.05, 3],\n",
       "       [0.0, 1.0, 1.0, ..., 46, 24.795, 3]], dtype=object)"
      ]
     },
     "execution_count": 12,
     "metadata": {},
     "output_type": "execute_result"
    }
   ],
   "source": [
    "X_test"
   ]
  },
  {
   "cell_type": "markdown",
   "metadata": {},
   "source": [
    "## Training the Linear Regression model on the Training set"
   ]
  },
  {
   "cell_type": "code",
   "execution_count": 13,
   "metadata": {},
   "outputs": [],
   "source": [
    "from sklearn.linear_model import LinearRegression\n",
    "regressor = LinearRegression()"
   ]
  },
  {
   "cell_type": "code",
   "execution_count": 14,
   "metadata": {},
   "outputs": [
    {
     "data": {
      "text/plain": [
       "LinearRegression()"
      ]
     },
     "execution_count": 14,
     "metadata": {},
     "output_type": "execute_result"
    }
   ],
   "source": [
    "regressor.fit(X_train, y_train)"
   ]
  },
  {
   "cell_type": "code",
   "execution_count": 15,
   "metadata": {},
   "outputs": [
    {
     "data": {
      "text/plain": [
       "0.7370262574551634"
      ]
     },
     "execution_count": 15,
     "metadata": {},
     "output_type": "execute_result"
    }
   ],
   "source": [
    "regressor.score(X_train, y_train)"
   ]
  },
  {
   "cell_type": "code",
   "execution_count": 16,
   "metadata": {},
   "outputs": [
    {
     "data": {
      "text/plain": [
       "array([ 7.73186394e+00, -7.73186394e+00, -1.18025086e+04,  1.18025086e+04,\n",
       "        4.83840068e+02,  2.23707336e+02, -4.29438766e+02, -2.78108638e+02,\n",
       "        2.53700500e+02,  3.35962814e+02,  4.36910121e+02])"
      ]
     },
     "execution_count": 16,
     "metadata": {},
     "output_type": "execute_result"
    }
   ],
   "source": [
    "regressor.coef_"
   ]
  },
  {
   "cell_type": "code",
   "execution_count": 17,
   "metadata": {},
   "outputs": [
    {
     "data": {
      "text/plain": [
       "-517.1368358426444"
      ]
     },
     "execution_count": 17,
     "metadata": {},
     "output_type": "execute_result"
    }
   ],
   "source": [
    "regressor.intercept_"
   ]
  },
  {
   "cell_type": "markdown",
   "metadata": {},
   "source": [
    "## Training the Polynomial Regression model on the Training set"
   ]
  },
  {
   "cell_type": "code",
   "execution_count": 18,
   "metadata": {},
   "outputs": [],
   "source": [
    "from sklearn.preprocessing import PolynomialFeatures\n",
    "poly_reg = PolynomialFeatures(degree = 4)\n",
    "X_poly = poly_reg.fit_transform(X_train)"
   ]
  },
  {
   "cell_type": "code",
   "execution_count": 19,
   "metadata": {},
   "outputs": [
    {
     "data": {
      "text/plain": [
       "LinearRegression()"
      ]
     },
     "execution_count": 19,
     "metadata": {},
     "output_type": "execute_result"
    }
   ],
   "source": [
    "poly_regressor = LinearRegression()\n",
    "poly_regressor.fit(X_poly, y_train)"
   ]
  },
  {
   "cell_type": "code",
   "execution_count": 20,
   "metadata": {},
   "outputs": [
    {
     "data": {
      "text/plain": [
       "0.8672828655744662"
      ]
     },
     "execution_count": 20,
     "metadata": {},
     "output_type": "execute_result"
    }
   ],
   "source": [
    "poly_regressor.score(X_poly, y_train)"
   ]
  },
  {
   "cell_type": "code",
   "execution_count": 21,
   "metadata": {},
   "outputs": [
    {
     "data": {
      "text/plain": [
       "array([ 7.29828322e+08,  3.82025236e+07, -1.28024439e+08, ...,\n",
       "       -9.98693049e-01,  1.15110625e+01,  2.75643297e+01])"
      ]
     },
     "execution_count": 21,
     "metadata": {},
     "output_type": "execute_result"
    }
   ],
   "source": [
    "poly_regressor.coef_"
   ]
  },
  {
   "cell_type": "code",
   "execution_count": 22,
   "metadata": {},
   "outputs": [
    {
     "data": {
      "text/plain": [
       "-657604157.2352935"
      ]
     },
     "execution_count": 22,
     "metadata": {},
     "output_type": "execute_result"
    }
   ],
   "source": [
    "poly_regressor.intercept_"
   ]
  },
  {
   "cell_type": "markdown",
   "metadata": {},
   "source": [
    "## Predicting the Linear Regression Test set results"
   ]
  },
  {
   "cell_type": "code",
   "execution_count": 23,
   "metadata": {},
   "outputs": [],
   "source": [
    "y_pred =  regressor.predict(X_test)"
   ]
  },
  {
   "cell_type": "code",
   "execution_count": 24,
   "metadata": {},
   "outputs": [
    {
     "name": "stdout",
     "output_type": "stream",
     "text": [
      "[[1.12e+04 9.72e+03]\n",
      " [9.49e+03 8.55e+03]\n",
      " [3.82e+04 4.57e+04]\n",
      " [1.63e+04 1.30e+04]\n",
      " [6.91e+03 9.64e+03]\n",
      " [3.96e+03 4.50e+03]\n",
      " [1.58e+03 2.20e+03]\n",
      " [1.44e+04 1.14e+04]\n",
      " [9.01e+03 7.54e+03]\n",
      " [7.51e+03 5.43e+03]\n",
      " [4.49e+03 6.75e+03]\n",
      " [1.03e+04 1.05e+04]\n",
      " [8.80e+03 7.34e+03]\n",
      " [3.80e+03 4.19e+03]\n",
      " [2.79e+04 1.83e+04]\n",
      " [1.07e+04 1.07e+04]\n",
      " [1.13e+04 1.25e+04]\n",
      " [6.11e+03 3.49e+03]\n",
      " [8.24e+03 6.46e+03]\n",
      " [2.71e+04 3.35e+04]\n",
      " [3.36e+04 2.40e+04]\n",
      " [1.44e+04 1.26e+04]\n",
      " [1.17e+04 2.30e+04]\n",
      " [3.21e+04 2.31e+04]\n",
      " [4.17e+03 1.67e+03]\n",
      " [9.25e+03 4.67e+03]\n",
      " [1.08e+03 3.73e+03]\n",
      " [9.80e+03 7.68e+03]\n",
      " [3.77e+03 3.76e+03]\n",
      " [1.04e+04 8.41e+03]\n",
      " [9.01e+03 8.06e+03]\n",
      " [4.01e+04 4.90e+04]\n",
      " [1.57e+04 1.30e+04]\n",
      " [1.39e+04 2.06e+04]\n",
      " [2.48e+04 1.46e+04]\n",
      " [5.17e+03 4.14e+03]\n",
      " [1.26e+04 8.35e+03]\n",
      " [3.08e+04 5.12e+04]\n",
      " [3.35e+04 4.00e+04]\n",
      " [3.67e+03 1.88e+03]\n",
      " [3.98e+03 5.46e+03]\n",
      " [3.99e+03 2.87e+03]\n",
      " [3.05e+04 2.01e+04]\n",
      " [3.95e+04 4.75e+04]\n",
      " [2.78e+04 3.61e+04]\n",
      " [5.09e+03 2.60e+04]\n",
      " [1.06e+04 1.97e+04]\n",
      " [7.83e+03 6.94e+03]\n",
      " [3.59e+03 4.72e+03]\n",
      " [1.02e+04 2.22e+04]\n",
      " [5.72e+03 2.90e+03]\n",
      " [3.43e+03 1.88e+04]\n",
      " [3.30e+04 2.36e+04]\n",
      " [3.85e+04 4.63e+04]\n",
      " [1.61e+04 2.42e+04]\n",
      " [7.16e+03 3.27e+03]\n",
      " [5.74e+03 2.32e+03]\n",
      " [9.45e+03 8.83e+03]\n",
      " [8.91e+03 1.45e+04]\n",
      " [1.17e+04 1.31e+04]\n",
      " [1.86e+03 1.25e+03]\n",
      " [3.89e+04 4.67e+04]\n",
      " [1.49e+04 1.39e+04]\n",
      " [1.18e+04 9.63e+03]\n",
      " [1.41e+04 1.07e+04]\n",
      " [1.41e+04 9.88e+03]\n",
      " [2.58e+04 3.25e+04]\n",
      " [3.22e+04 3.87e+04]\n",
      " [8.14e+02 3.18e+03]\n",
      " [1.02e+04 8.16e+03]\n",
      " [1.24e+04 1.30e+04]\n",
      " [1.15e+04 1.16e+04]\n",
      " [2.52e+04 1.62e+04]\n",
      " [1.56e+04 1.39e+04]\n",
      " [1.12e+04 1.30e+04]\n",
      " [1.26e+04 1.32e+04]\n",
      " [6.56e+03 7.15e+03]\n",
      " [9.59e+03 7.73e+03]\n",
      " [3.02e+04 2.03e+04]\n",
      " [3.91e+04 4.74e+04]\n",
      " [1.20e+04 1.17e+04]\n",
      " [3.73e+04 4.59e+04]\n",
      " [4.27e+03 2.06e+03]\n",
      " [9.39e+03 7.44e+03]\n",
      " [3.49e+04 4.10e+04]\n",
      " [2.88e+04 1.90e+04]\n",
      " [8.69e+03 3.41e+03]\n",
      " [4.93e+03 2.70e+03]\n",
      " [1.20e+04 1.23e+04]\n",
      " [3.05e+04 3.68e+04]\n",
      " [1.01e+04 6.33e+03]\n",
      " [1.14e+04 1.02e+04]\n",
      " [8.40e+03 1.79e+04]\n",
      " [8.90e+03 8.52e+03]\n",
      " [8.43e+03 4.52e+03]\n",
      " [7.32e+03 5.15e+03]\n",
      " [3.60e+04 4.23e+04]\n",
      " [3.32e+04 3.90e+04]\n",
      " [7.66e+03 5.33e+03]\n",
      " [1.51e+04 1.06e+04]\n",
      " [4.02e+03 1.82e+03]\n",
      " [8.83e+03 5.38e+03]\n",
      " [6.32e+03 4.35e+03]\n",
      " [3.15e+04 3.77e+04]\n",
      " [3.30e+04 3.28e+04]\n",
      " [1.97e+03 3.35e+03]\n",
      " [9.03e+03 1.06e+04]\n",
      " [6.70e+03 3.56e+03]\n",
      " [1.46e+04 1.19e+04]\n",
      " [3.72e+04 5.26e+04]\n",
      " [1.01e+04 1.25e+04]\n",
      " [1.06e+04 4.27e+03]\n",
      " [1.02e+04 9.25e+03]\n",
      " [2.70e+04 3.37e+04]\n",
      " [3.99e+04 4.87e+04]\n",
      " [8.46e+03 7.73e+03]\n",
      " [2.97e+02 1.96e+03]\n",
      " [9.02e+03 8.44e+03]\n",
      " [1.53e+04 1.23e+04]\n",
      " [9.53e+03 9.30e+03]\n",
      " [3.52e+04 4.21e+04]\n",
      " [7.26e+03 9.99e+03]\n",
      " [1.70e+04 1.43e+04]\n",
      " [9.65e+03 5.43e+03]\n",
      " [8.25e+03 7.63e+03]\n",
      " [2.94e+03 4.91e+03]\n",
      " [3.29e+04 2.34e+04]\n",
      " [3.15e+04 2.11e+04]\n",
      " [3.96e+04 4.82e+04]\n",
      " [5.61e+03 1.92e+03]\n",
      " [9.31e+03 8.22e+03]\n",
      " [3.59e+03 1.73e+03]\n",
      " [7.65e+03 5.98e+03]\n",
      " [8.63e+03 9.36e+03]\n",
      " [3.17e+04 2.21e+04]\n",
      " [3.00e+04 3.55e+04]\n",
      " [2.98e+04 1.95e+04]\n",
      " [8.73e+03 1.01e+04]\n",
      " [3.24e+04 2.32e+04]\n",
      " [3.36e+03 2.79e+03]\n",
      " [3.71e+03 2.26e+03]\n",
      " [1.11e+04 1.06e+04]\n",
      " [1.32e+04 9.30e+03]\n",
      " [1.29e+04 1.04e+04]\n",
      " [5.45e+03 4.89e+03]\n",
      " [1.56e+04 1.43e+04]\n",
      " [1.49e+04 2.83e+04]\n",
      " [2.41e+03 1.44e+04]\n",
      " [2.55e+01 1.63e+03]\n",
      " [1.08e+04 2.55e+04]\n",
      " [7.41e+03 6.56e+03]\n",
      " [3.19e+04 3.96e+04]\n",
      " [1.24e+04 9.96e+03]\n",
      " [2.34e+03 1.72e+03]\n",
      " [6.48e+03 2.73e+03]\n",
      " [7.86e+03 6.50e+03]\n",
      " [4.45e+03 2.64e+03]\n",
      " [2.11e+03 1.72e+03]\n",
      " [1.14e+04 1.11e+04]\n",
      " [1.25e+04 1.01e+04]\n",
      " [7.26e+03 4.85e+03]\n",
      " [1.64e+04 1.30e+04]\n",
      " [1.18e+04 2.89e+04]\n",
      " [1.41e+04 9.39e+03]\n",
      " [3.18e+03 4.54e+03]\n",
      " [7.29e+03 1.71e+04]\n",
      " [2.31e+04 1.38e+04]\n",
      " [7.59e+03 6.11e+03]\n",
      " [5.49e+03 4.44e+03]\n",
      " [5.20e+03 1.63e+03]\n",
      " [6.76e+03 4.06e+03]\n",
      " [5.20e+03 4.44e+03]\n",
      " [1.00e+04 8.31e+03]\n",
      " [5.38e+03 1.99e+03]\n",
      " [5.73e+03 4.26e+03]\n",
      " [6.64e+03 4.50e+03]\n",
      " [3.70e+03 4.43e+03]\n",
      " [5.57e+03 6.12e+03]\n",
      " [3.81e+04 3.02e+04]\n",
      " [1.50e+03 1.71e+03]\n",
      " [1.26e+04 1.12e+04]\n",
      " [8.97e+03 6.80e+03]\n",
      " [1.38e+04 1.14e+04]\n",
      " [5.40e+03 2.50e+03]\n",
      " [5.19e+03 2.74e+04]\n",
      " [3.65e+04 2.81e+04]\n",
      " [4.40e+03 2.25e+03]\n",
      " [2.04e+03 2.60e+03]\n",
      " [1.52e+04 1.47e+04]\n",
      " [1.27e+04 1.04e+04]\n",
      " [3.51e+04 4.11e+04]\n",
      " [4.78e+03 3.98e+03]\n",
      " [5.68e+03 5.47e+03]\n",
      " [3.12e+04 2.12e+04]\n",
      " [6.21e+03 2.53e+03]\n",
      " [2.15e+03 1.97e+03]\n",
      " [8.44e+03 6.41e+03]\n",
      " [1.00e+04 6.55e+03]\n",
      " [8.00e+03 4.06e+03]\n",
      " [5.80e+03 4.24e+03]\n",
      " [1.32e+04 1.15e+04]\n",
      " [3.85e+04 4.69e+04]\n",
      " [1.38e+04 1.23e+04]\n",
      " [2.89e+04 1.92e+04]\n",
      " [6.79e+03 4.43e+03]\n",
      " [3.55e+04 4.30e+04]\n",
      " [3.77e+03 2.32e+04]\n",
      " [1.19e+04 9.14e+03]\n",
      " [9.06e+03 5.84e+03]\n",
      " [6.26e+03 1.15e+03]\n",
      " [1.14e+04 8.77e+03]\n",
      " [1.46e+04 1.40e+04]\n",
      " [5.17e+03 5.31e+03]\n",
      " [4.47e+03 1.08e+04]\n",
      " [7.91e+03 6.28e+03]\n",
      " [1.34e+03 1.97e+03]\n",
      " [7.86e+03 6.75e+03]\n",
      " [4.42e+03 5.35e+03]\n",
      " [1.29e+04 1.40e+04]\n",
      " [4.24e+03 6.88e+03]\n",
      " [1.01e+04 6.20e+03]\n",
      " [7.20e+03 7.99e+03]\n",
      " [9.30e+03 8.28e+03]\n",
      " [2.40e+03 3.21e+03]\n",
      " [1.32e+04 1.18e+04]\n",
      " [1.69e+04 1.42e+04]\n",
      " [1.49e+04 1.23e+04]\n",
      " [1.06e+04 1.18e+04]\n",
      " [5.29e+03 6.65e+03]\n",
      " [2.23e+03 2.14e+03]\n",
      " [1.94e+03 1.13e+03]\n",
      " [1.35e+04 8.34e+03]\n",
      " [1.41e+04 1.22e+04]\n",
      " [5.02e+03 4.56e+03]\n",
      " [3.76e+03 1.76e+04]\n",
      " [9.49e+03 6.88e+03]\n",
      " [9.98e+03 9.45e+03]\n",
      " [2.83e+04 3.43e+04]\n",
      " [7.65e+03 6.07e+03]\n",
      " [1.05e+04 1.17e+04]\n",
      " [6.32e+03 5.38e+03]\n",
      " [2.99e+04 3.75e+04]\n",
      " [1.11e+04 7.37e+03]\n",
      " [7.51e+03 7.33e+03]\n",
      " [1.02e+04 8.41e+03]\n",
      " [1.22e+04 1.05e+04]\n",
      " [3.01e+03 3.28e+03]\n",
      " [1.09e+04 7.73e+03]\n",
      " [1.54e+03 2.73e+03]\n",
      " [7.04e+03 6.86e+03]\n",
      " [2.84e+04 1.95e+04]\n",
      " [3.87e+04 4.73e+04]\n",
      " [6.37e+03 3.99e+03]\n",
      " [8.19e+03 3.24e+03]\n",
      " [2.54e+03 7.32e+03]\n",
      " [4.47e+02 1.70e+03]\n",
      " [1.06e+04 7.45e+03]\n",
      " [4.21e+03 1.63e+03]\n",
      " [4.96e+03 4.88e+03]\n",
      " [2.34e+03 3.56e+03]\n",
      " [6.81e+03 8.61e+03]\n",
      " [3.34e+04 2.45e+04]\n",
      " [3.82e+04 4.57e+04]\n",
      " [1.48e+04 1.50e+04]\n",
      " [8.28e+03 6.66e+03]\n",
      " [1.61e+04 2.07e+04]\n",
      " [3.29e+04 4.09e+04]\n",
      " [9.47e+03 9.50e+03]]\n"
     ]
    }
   ],
   "source": [
    "np.set_printoptions(precision=2)\n",
    "print(np.concatenate((y_pred.reshape(len(y_pred), 1), y_test.reshape(len(y_test), 1)), 1))"
   ]
  },
  {
   "cell_type": "code",
   "execution_count": 25,
   "metadata": {},
   "outputs": [
    {
     "data": {
      "text/html": [
       "<div>\n",
       "<style scoped>\n",
       "    .dataframe tbody tr th:only-of-type {\n",
       "        vertical-align: middle;\n",
       "    }\n",
       "\n",
       "    .dataframe tbody tr th {\n",
       "        vertical-align: top;\n",
       "    }\n",
       "\n",
       "    .dataframe thead th {\n",
       "        text-align: right;\n",
       "    }\n",
       "</style>\n",
       "<table border=\"1\" class=\"dataframe\">\n",
       "  <thead>\n",
       "    <tr style=\"text-align: right;\">\n",
       "      <th></th>\n",
       "      <th>Orginal value</th>\n",
       "      <th>Predicted value</th>\n",
       "    </tr>\n",
       "  </thead>\n",
       "  <tbody>\n",
       "    <tr>\n",
       "      <th>0</th>\n",
       "      <td>9724.53000</td>\n",
       "      <td>11169.927119</td>\n",
       "    </tr>\n",
       "    <tr>\n",
       "      <th>1</th>\n",
       "      <td>8547.69130</td>\n",
       "      <td>9486.709085</td>\n",
       "    </tr>\n",
       "    <tr>\n",
       "      <th>2</th>\n",
       "      <td>45702.02235</td>\n",
       "      <td>38181.123053</td>\n",
       "    </tr>\n",
       "    <tr>\n",
       "      <th>3</th>\n",
       "      <td>12950.07120</td>\n",
       "      <td>16266.313289</td>\n",
       "    </tr>\n",
       "    <tr>\n",
       "      <th>4</th>\n",
       "      <td>9644.25250</td>\n",
       "      <td>6914.648007</td>\n",
       "    </tr>\n",
       "    <tr>\n",
       "      <th>...</th>\n",
       "      <td>...</td>\n",
       "      <td>...</td>\n",
       "    </tr>\n",
       "    <tr>\n",
       "      <th>263</th>\n",
       "      <td>15019.76005</td>\n",
       "      <td>14760.230968</td>\n",
       "    </tr>\n",
       "    <tr>\n",
       "      <th>264</th>\n",
       "      <td>6664.68595</td>\n",
       "      <td>8277.984346</td>\n",
       "    </tr>\n",
       "    <tr>\n",
       "      <th>265</th>\n",
       "      <td>20709.02034</td>\n",
       "      <td>16149.973370</td>\n",
       "    </tr>\n",
       "    <tr>\n",
       "      <th>266</th>\n",
       "      <td>40932.42950</td>\n",
       "      <td>32904.758143</td>\n",
       "    </tr>\n",
       "    <tr>\n",
       "      <th>267</th>\n",
       "      <td>9500.57305</td>\n",
       "      <td>9467.614058</td>\n",
       "    </tr>\n",
       "  </tbody>\n",
       "</table>\n",
       "<p>268 rows × 2 columns</p>\n",
       "</div>"
      ],
      "text/plain": [
       "     Orginal value  Predicted value\n",
       "0       9724.53000     11169.927119\n",
       "1       8547.69130      9486.709085\n",
       "2      45702.02235     38181.123053\n",
       "3      12950.07120     16266.313289\n",
       "4       9644.25250      6914.648007\n",
       "..             ...              ...\n",
       "263    15019.76005     14760.230968\n",
       "264     6664.68595      8277.984346\n",
       "265    20709.02034     16149.973370\n",
       "266    40932.42950     32904.758143\n",
       "267     9500.57305      9467.614058\n",
       "\n",
       "[268 rows x 2 columns]"
      ]
     },
     "execution_count": 25,
     "metadata": {},
     "output_type": "execute_result"
    }
   ],
   "source": [
    "df = pd.DataFrame({'Orginal value': y_test.flatten(), 'Predicted value': y_pred.flatten()})\n",
    "df"
   ]
  },
  {
   "cell_type": "code",
   "execution_count": null,
   "metadata": {},
   "outputs": [],
   "source": []
  },
  {
   "cell_type": "markdown",
   "metadata": {},
   "source": [
    "## Predicting the Polynomial Regression Test set results"
   ]
  },
  {
   "cell_type": "code",
   "execution_count": 26,
   "metadata": {},
   "outputs": [],
   "source": [
    "y_poly_pred =  poly_regressor.predict(poly_reg.fit_transform(X_test))"
   ]
  },
  {
   "cell_type": "code",
   "execution_count": 27,
   "metadata": {},
   "outputs": [
    {
     "data": {
      "text/plain": [
       "268"
      ]
     },
     "execution_count": 27,
     "metadata": {},
     "output_type": "execute_result"
    }
   ],
   "source": [
    "y_poly_pred.size"
   ]
  },
  {
   "cell_type": "code",
   "execution_count": 28,
   "metadata": {},
   "outputs": [
    {
     "name": "stdout",
     "output_type": "stream",
     "text": [
      "[[12113.07  9724.53]\n",
      " [ 9134.57  8547.69]\n",
      " [59243.85 45702.02]\n",
      " [10514.69 12950.07]\n",
      " [16006.92  9644.25]\n",
      " [ 2773.91  4500.34]\n",
      " [ 3157.01  2198.19]\n",
      " [12724.59 11436.74]\n",
      " [ 8035.99  7537.16]\n",
      " [ 8771.91  5425.02]\n",
      " [ 7814.86  6753.04]\n",
      " [10781.16 10493.95]\n",
      " [ 8495.02  7337.75]\n",
      " [ 8582.91  4185.1 ]\n",
      " [21702.46 18310.74]\n",
      " [14700.29 10702.64]\n",
      " [13141.9  12523.6 ]\n",
      " [ 8423.63  3490.55]\n",
      " [ 7930.93  6457.84]\n",
      " [28722.99 33475.82]\n",
      " [23073.98 23967.38]\n",
      " [15884.43 12643.38]\n",
      " [11169.11 23045.57]\n",
      " [29313.09 23065.42]\n",
      " [ 3383.62  1674.63]\n",
      " [ 9552.3   4667.61]\n",
      " [ 6816.68  3732.63]\n",
      " [ 9028.02  7682.67]\n",
      " [ 7355.92  3756.62]\n",
      " [10673.3   8413.46]\n",
      " [ 7620.02  8059.68]\n",
      " [47661.35 48970.25]\n",
      " [13241.07 12979.36]\n",
      " [11200.29 20630.28]\n",
      " [14421.14 14571.89]\n",
      " [ 5338.73  4137.52]\n",
      " [ 9212.26  8347.16]\n",
      " [39864.3  51194.56]\n",
      " [39993.13 40003.33]\n",
      " [ 3348.11  1880.49]\n",
      " [ 6994.13  5458.05]\n",
      " [ 3761.69  2867.12]\n",
      " [27226.03 20149.32]\n",
      " [56223.07 47496.49]\n",
      " [34768.98 36149.48]\n",
      " [ 8450.44 26018.95]\n",
      " [14638.79 19749.38]\n",
      " [ 8106.63  6940.91]\n",
      " [ 6968.5   4718.2 ]\n",
      " [13342.7  22192.44]\n",
      " [ 5906.41  2899.49]\n",
      " [ 8720.66 18838.7 ]\n",
      " [28700.05 23568.27]\n",
      " [46632.04 46255.11]\n",
      " [11964.12 24227.34]\n",
      " [ 6181.09  3268.85]\n",
      " [ 3762.62  2322.62]\n",
      " [11483.47  8827.21]\n",
      " [ 9498.92 14478.33]\n",
      " [16130.44 13112.6 ]\n",
      " [ 2771.07  1253.94]\n",
      " [46999.15 46718.16]\n",
      " [17356.54 13919.82]\n",
      " [10949.5   9630.4 ]\n",
      " [15538.51 10736.87]\n",
      " [10211.06  9880.07]\n",
      " [19874.64 32548.34]\n",
      " [42362.71 38746.36]\n",
      " [-2448.46  3180.51]\n",
      " [ 9879.39  8162.72]\n",
      " [14380.77 13041.92]\n",
      " [13319.52 11554.22]\n",
      " [17251.17 16232.85]\n",
      " [14091.53 13887.97]\n",
      " [13565.74 13012.21]\n",
      " [13961.55 13217.09]\n",
      " [ 8863.73  7147.1 ]\n",
      " [10565.16  7731.43]\n",
      " [22510.84 20296.86]\n",
      " [49519.12 47403.88]\n",
      " [12593.17 11658.38]\n",
      " [58446.69 45863.21]\n",
      " [ 3685.91  2055.32]\n",
      " [ 8715.06  7441.05]\n",
      " [40066.44 41034.22]\n",
      " [21377.82 18972.49]\n",
      " [ 1415.27  3410.32]\n",
      " [ 4751.97  2699.57]\n",
      " [15497.51 12333.83]\n",
      " [42648.01 36837.47]\n",
      " [13278.48  6334.34]\n",
      " [13572.84 10214.64]\n",
      " [ 2754.16 17878.9 ]\n",
      " [ 8815.06  8515.76]\n",
      " [ 6151.06  4518.83]\n",
      " [10467.86  5148.55]\n",
      " [35946.22 42303.69]\n",
      " [31028.04 38998.55]\n",
      " [ 8450.56  5327.4 ]\n",
      " [10226.8  10602.39]\n",
      " [ 3461.33  1824.29]\n",
      " [ 7384.73  5377.46]\n",
      " [ 4825.36  4349.46]\n",
      " [38872.32 37742.58]\n",
      " [26900.47 32787.46]\n",
      " [ 3921.    3353.47]\n",
      " [ 9478.93 10577.09]\n",
      " [ 4542.76  3556.92]\n",
      " [12538.49 11944.59]\n",
      " [43034.74 52590.83]\n",
      " [13033.9  12475.35]\n",
      " [ 5934.78  4266.17]\n",
      " [ 9869.72  9249.5 ]\n",
      " [30299.84 33732.69]\n",
      " [47633.29 48675.52]\n",
      " [ 8154.09  7729.65]\n",
      " [ 1857.72  1964.78]\n",
      " [11661.41  8444.47]\n",
      " [14743.9  12347.17]\n",
      " [10427.44  9301.89]\n",
      " [43189.77 42124.52]\n",
      " [15893.64  9991.04]\n",
      " [13644.4  14319.03]\n",
      " [12427.79  5428.73]\n",
      " [ 9037.38  7626.99]\n",
      " [ 5654.24  4906.41]\n",
      " [25880.89 23401.31]\n",
      " [15743.42 21098.55]\n",
      " [50972.89 48173.36]\n",
      " [ 1925.81  1917.32]\n",
      " [ 8592.79  8219.2 ]\n",
      " [ 7514.2   1725.55]\n",
      " [ 5993.06  5976.83]\n",
      " [ 9711.65  9361.33]\n",
      " [35918.84 22144.03]\n",
      " [34358.77 35491.64]\n",
      " [28575.59 19515.54]\n",
      " [10703.32 10107.22]\n",
      " [21467.13 23244.79]\n",
      " [ 4846.24  2789.06]\n",
      " [ 1701.94  2261.57]\n",
      " [12847.76 10594.5 ]\n",
      " [10289.2   9304.7 ]\n",
      " [11576.85 10435.07]\n",
      " [ 5606.22  4894.75]\n",
      " [14646.29 14313.85]\n",
      " [13368.97 28287.9 ]\n",
      " [ 5434.29 14426.07]\n",
      " [ 2971.47  1627.28]\n",
      " [12761.96 25517.11]\n",
      " [ 9134.8   6555.07]\n",
      " [43356.04 39611.76]\n",
      " [12918.08  9964.06]\n",
      " [ 6862.73  1720.35]\n",
      " [ 3748.49  2730.11]\n",
      " [ 6555.87  6500.24]\n",
      " [ 5375.94  2643.27]\n",
      " [ 6651.72  1719.44]\n",
      " [10070.68 11085.59]\n",
      " [10646.26 10115.01]\n",
      " [10577.07  4846.92]\n",
      " [12535.61 12982.87]\n",
      " [13003.98 28923.14]\n",
      " [ 9867.85  9391.35]\n",
      " [ 5477.54  4544.23]\n",
      " [10459.55 17128.43]\n",
      " [15032.02 13844.51]\n",
      " [15083.89  6113.23]\n",
      " [ 5424.48  4441.21]\n",
      " [ 1880.78  1633.96]\n",
      " [ 7862.91  4058.71]\n",
      " [ 6809.46  4435.09]\n",
      " [ 8987.18  8310.84]\n",
      " [ 3475.45  1986.93]\n",
      " [ 5009.37  4260.74]\n",
      " [ 1948.08  4504.66]\n",
      " [ 4815.8   4428.89]\n",
      " [ 6924.32  6117.49]\n",
      " [41489.87 30184.94]\n",
      " [ 2410.39  1708.93]\n",
      " [12892.54 11187.66]\n",
      " [ 9121.18  6796.86]\n",
      " [11904.81 11356.66]\n",
      " [ 4012.85  2498.41]\n",
      " [ 5168.92 27375.9 ]\n",
      " [28589.04 28101.33]\n",
      " [ 5336.96  2254.8 ]\n",
      " [ 4407.44  2597.78]\n",
      " [14073.75 14692.67]\n",
      " [14246.81 10370.91]\n",
      " [37611.27 41097.16]\n",
      " [ 3626.35  3981.98]\n",
      " [ 6846.13  5472.45]\n",
      " [31178.66 21223.68]\n",
      " [ 3809.42  2534.39]\n",
      " [ 4071.05  1972.95]\n",
      " [ 8880.42  6406.41]\n",
      " [14178.79  6551.75]\n",
      " [ 7738.74  4058.12]\n",
      " [ 5656.93  4243.59]\n",
      " [14614.64 11512.41]\n",
      " [48100.63 46889.26]\n",
      " [14891.97 12268.63]\n",
      " [17720.69 19199.94]\n",
      " [ 7569.67  4433.39]\n",
      " [42040.57 42969.85]\n",
      " [ 5926.41 23241.47]\n",
      " [12693.07  9140.95]\n",
      " [ 6006.42  5836.52]\n",
      " [  957.99  1149.4 ]\n",
      " [11195.86  8765.25]\n",
      " [15186.89 14043.48]\n",
      " [ 6869.79  5312.17]\n",
      " [ 4067.42 10795.94]\n",
      " [ 7229.28  6282.23]\n",
      " [ 3478.93  1969.61]\n",
      " [ 7699.78  6746.74]\n",
      " [ 7192.36  5354.07]\n",
      " [20859.67 14001.29]\n",
      " [ 8592.02  6877.98]\n",
      " [ 4220.38  6196.45]\n",
      " [ 9755.07  7986.48]\n",
      " [ 9010.86  8277.52]\n",
      " [ 3528.79  3206.49]\n",
      " [11829.23 11848.14]\n",
      " [10550.13 14210.54]\n",
      " [13604.66 12265.51]\n",
      " [13182.46 11837.16]\n",
      " [ 7736.05  6652.53]\n",
      " [ 2267.3   2137.65]\n",
      " [ 2661.35  1131.51]\n",
      " [12076.09  8342.91]\n",
      " [13184.22 12244.53]\n",
      " [15984.81  4561.19]\n",
      " [ 4638.93 17626.24]\n",
      " [ 6807.65  6875.96]\n",
      " [11087.44  9447.38]\n",
      " [31022.82 34254.05]\n",
      " [ 6922.92  6067.13]\n",
      " [10613.01 11729.68]\n",
      " [ 6809.21  5383.54]\n",
      " [45302.14 37465.34]\n",
      " [ 6808.2   7371.77]\n",
      " [ 7650.01  7325.05]\n",
      " [10267.71  8410.05]\n",
      " [13506.57 10461.98]\n",
      " [ 6864.11  3279.87]\n",
      " [10018.79  7727.25]\n",
      " [ 2886.24  2731.91]\n",
      " [ 6449.13  6858.48]\n",
      " [23203.56 19521.97]\n",
      " [45770.08 47305.31]\n",
      " [ 5762.08  3987.93]\n",
      " [ 3861.34  3238.44]\n",
      " [ 4375.91  7323.73]\n",
      " [  822.25  1704.57]\n",
      " [ 8243.84  7445.92]\n",
      " [ 2847.83  1629.83]\n",
      " [ 7293.2   4877.98]\n",
      " [ 3724.79  3561.89]\n",
      " [11365.94  8605.36]\n",
      " [29253.87 24520.26]\n",
      " [34333.76 45710.21]\n",
      " [18628.1  15019.76]\n",
      " [ 7998.01  6664.69]\n",
      " [10143.04 20709.02]\n",
      " [40760.59 40932.43]\n",
      " [ 8506.36  9500.57]]\n"
     ]
    }
   ],
   "source": [
    "np.set_printoptions(precision=2)\n",
    "print(np.concatenate((y_poly_pred.reshape(len(y_poly_pred), 1), y_test.reshape(len(y_test), 1)), 1))"
   ]
  },
  {
   "cell_type": "code",
   "execution_count": 29,
   "metadata": {},
   "outputs": [
    {
     "data": {
      "text/html": [
       "<div>\n",
       "<style scoped>\n",
       "    .dataframe tbody tr th:only-of-type {\n",
       "        vertical-align: middle;\n",
       "    }\n",
       "\n",
       "    .dataframe tbody tr th {\n",
       "        vertical-align: top;\n",
       "    }\n",
       "\n",
       "    .dataframe thead th {\n",
       "        text-align: right;\n",
       "    }\n",
       "</style>\n",
       "<table border=\"1\" class=\"dataframe\">\n",
       "  <thead>\n",
       "    <tr style=\"text-align: right;\">\n",
       "      <th></th>\n",
       "      <th>Orginal value</th>\n",
       "      <th>Predicted value</th>\n",
       "    </tr>\n",
       "  </thead>\n",
       "  <tbody>\n",
       "    <tr>\n",
       "      <th>0</th>\n",
       "      <td>9724.53000</td>\n",
       "      <td>12113.068172</td>\n",
       "    </tr>\n",
       "    <tr>\n",
       "      <th>1</th>\n",
       "      <td>8547.69130</td>\n",
       "      <td>9134.565914</td>\n",
       "    </tr>\n",
       "    <tr>\n",
       "      <th>2</th>\n",
       "      <td>45702.02235</td>\n",
       "      <td>59243.847876</td>\n",
       "    </tr>\n",
       "    <tr>\n",
       "      <th>3</th>\n",
       "      <td>12950.07120</td>\n",
       "      <td>10514.689023</td>\n",
       "    </tr>\n",
       "    <tr>\n",
       "      <th>4</th>\n",
       "      <td>9644.25250</td>\n",
       "      <td>16006.919309</td>\n",
       "    </tr>\n",
       "    <tr>\n",
       "      <th>...</th>\n",
       "      <td>...</td>\n",
       "      <td>...</td>\n",
       "    </tr>\n",
       "    <tr>\n",
       "      <th>263</th>\n",
       "      <td>15019.76005</td>\n",
       "      <td>18628.096411</td>\n",
       "    </tr>\n",
       "    <tr>\n",
       "      <th>264</th>\n",
       "      <td>6664.68595</td>\n",
       "      <td>7998.008907</td>\n",
       "    </tr>\n",
       "    <tr>\n",
       "      <th>265</th>\n",
       "      <td>20709.02034</td>\n",
       "      <td>10143.043149</td>\n",
       "    </tr>\n",
       "    <tr>\n",
       "      <th>266</th>\n",
       "      <td>40932.42950</td>\n",
       "      <td>40760.587962</td>\n",
       "    </tr>\n",
       "    <tr>\n",
       "      <th>267</th>\n",
       "      <td>9500.57305</td>\n",
       "      <td>8506.358256</td>\n",
       "    </tr>\n",
       "  </tbody>\n",
       "</table>\n",
       "<p>268 rows × 2 columns</p>\n",
       "</div>"
      ],
      "text/plain": [
       "     Orginal value  Predicted value\n",
       "0       9724.53000     12113.068172\n",
       "1       8547.69130      9134.565914\n",
       "2      45702.02235     59243.847876\n",
       "3      12950.07120     10514.689023\n",
       "4       9644.25250     16006.919309\n",
       "..             ...              ...\n",
       "263    15019.76005     18628.096411\n",
       "264     6664.68595      7998.008907\n",
       "265    20709.02034     10143.043149\n",
       "266    40932.42950     40760.587962\n",
       "267     9500.57305      8506.358256\n",
       "\n",
       "[268 rows x 2 columns]"
      ]
     },
     "execution_count": 29,
     "metadata": {},
     "output_type": "execute_result"
    }
   ],
   "source": [
    "df = pd.DataFrame({'Orginal value': y_test.flatten(), 'Predicted value': y_poly_pred.flatten()})\n",
    "df"
   ]
  },
  {
   "cell_type": "code",
   "execution_count": null,
   "metadata": {},
   "outputs": [],
   "source": []
  }
 ],
 "metadata": {
  "kernelspec": {
   "display_name": "Python 3",
   "language": "python",
   "name": "python3"
  },
  "language_info": {
   "codemirror_mode": {
    "name": "ipython",
    "version": 3
   },
   "file_extension": ".py",
   "mimetype": "text/x-python",
   "name": "python",
   "nbconvert_exporter": "python",
   "pygments_lexer": "ipython3",
   "version": "3.8.3"
  }
 },
 "nbformat": 4,
 "nbformat_minor": 4
}
